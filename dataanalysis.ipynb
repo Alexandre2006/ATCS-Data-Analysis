{
 "cells": [
  {
   "cell_type": "markdown",
   "metadata": {},
   "source": [
    "# Data Analysis Project\n",
    "#### By: Alexandre Haddad-Delaveau\n",
    "\n",
    "## Data Sources:\n",
    "\n",
    "- [Kaggle](https://www.kaggle.com/datasets/abrambeyer/h1b-visa-petitions-20152019/data)\n",
    "- [Original Data](https://www.dol.gov/agencies/eta/foreign-labor/performance)\n",
    "\n",
    "## Initial Setup"
   ]
  },
  {
   "cell_type": "code",
   "execution_count": null,
   "metadata": {},
   "outputs": [],
   "source": [
    "# Import Dependencies\n",
    "import pandas as pd\n",
    "import plotly.express as px\n",
    "import plotly.graph_objects as go"
   ]
  },
  {
   "cell_type": "markdown",
   "metadata": {},
   "source": [
    "## Data Exploration"
   ]
  },
  {
   "cell_type": "code",
   "execution_count": null,
   "metadata": {},
   "outputs": [],
   "source": [
    "# Load dataset into dataframe\n",
    "# NOTE: Must use 'latin-1' encoding due to non utf-8 characters in dataset\n",
    "df = pd.read_csv(\"data/h1b_disclosure_data_2015_2019.csv\", encoding='latin-1')"
   ]
  },
  {
   "cell_type": "markdown",
   "metadata": {},
   "source": [
    "### Print out columns"
   ]
  },
  {
   "cell_type": "code",
   "execution_count": null,
   "metadata": {},
   "outputs": [],
   "source": [
    "df.columns"
   ]
  },
  {
   "cell_type": "markdown",
   "metadata": {},
   "source": [
    "#### Conclusion:\n",
    "Columns like 'CASE_NUMBER' may not be useful to our analysis. Another column which will recquire more research for better understanding is 'SOC_CODE'.\n",
    "\n",
    "### Print columns and data type"
   ]
  },
  {
   "cell_type": "code",
   "execution_count": null,
   "metadata": {},
   "outputs": [],
   "source": [
    "df.dtypes"
   ]
  },
  {
   "cell_type": "markdown",
   "metadata": {},
   "source": [
    "#### Conclusion:\n",
    "Most variables return 'object' indicating a mix of values. This could mean their are N/A values. Exceptions are YEAR which is properly formatted as int64, and PREVAILING_WAGE, which is a float64.\n",
    "\n",
    "### Check for nulls"
   ]
  },
  {
   "cell_type": "code",
   "execution_count": null,
   "metadata": {},
   "outputs": [],
   "source": [
    "df.isna().sum()"
   ]
  },
  {
   "cell_type": "markdown",
   "metadata": {},
   "source": [
    "#### Conclusion:\n",
    "Very low quantity of NA's. Many columns don't have any NA's. \n",
    "\n",
    "### Check for duplicates & unique values"
   ]
  },
  {
   "cell_type": "code",
   "execution_count": null,
   "metadata": {},
   "outputs": [],
   "source": [
    "# Print value counts to check for duplicates\n",
    "df['CASE_NUMBER'].value_counts()\n",
    "\n",
    "# Print number of case IDs that are duplicated\n",
    "df['CASE_NUMBER'].duplicated().sum() # 17770 duplicates\n",
    "\n",
    "# Print percentage of case IDs that are duplicated\n",
    "df['CASE_NUMBER'].duplicated().sum() / len(df['CASE_NUMBER']) * 100 # 2.07%"
   ]
  },
  {
   "cell_type": "markdown",
   "metadata": {},
   "source": [
    "#### Conclusion:\n",
    "There are around 2% of duplicate rows. This is not a huge amount, and these rows can probably just be deleted.\n",
    "\n",
    "### View first couple of rows of data"
   ]
  },
  {
   "cell_type": "code",
   "execution_count": null,
   "metadata": {},
   "outputs": [],
   "source": [
    "df.head(10)"
   ]
  },
  {
   "cell_type": "markdown",
   "metadata": {},
   "source": [
    "#### Conclusion:\n",
    "Data is well formatted, and there doesn't seem to be any errors in the first couple of rows. The data is very clear, and is worth further exploring, even with the 2% of duplicates & couple of N/A values in each row."
   ]
  },
  {
   "cell_type": "markdown",
   "metadata": {},
   "source": [
    "## Data Cleaning\n",
    "\n",
    "### Remove any duplicate rows"
   ]
  },
  {
   "cell_type": "code",
   "execution_count": null,
   "metadata": {},
   "outputs": [],
   "source": [
    "df = df.drop_duplicates()"
   ]
  },
  {
   "cell_type": "markdown",
   "metadata": {},
   "source": [
    "### Remove Columns"
   ]
  },
  {
   "cell_type": "code",
   "execution_count": null,
   "metadata": {},
   "outputs": [],
   "source": [
    "# Remove unnecessary columns for analysis\n",
    "df = df.drop('CASE_NUMBER', axis=1)\n",
    "\n",
    "# Drop columns which I do not understand\n",
    "df = df.drop('SOC_CODE', axis=1)\n",
    "\n",
    "# Remove columns with repeated data\n",
    "df = df.drop('WORKSITE', axis=1)"
   ]
  },
  {
   "cell_type": "markdown",
   "metadata": {},
   "source": [
    "### Calculate percentage of each column that is N/A and remove N/A's or delete column"
   ]
  },
  {
   "cell_type": "code",
   "execution_count": null,
   "metadata": {},
   "outputs": [],
   "source": [
    "# Print percentage N/A's of columns\n",
    "for col in df.columns:\n",
    "    column = df[col]\n",
    "    print(column.isna().sum() / len(df) * 100)\n",
    "\n",
    "# NO COLUMNS HAVE MORE THAN 10% N/A values\n",
    "\n",
    "# Remove columns with N/A values\n",
    "df = df.dropna()\n",
    "\n",
    "# Remove any columns where salary is 0 or integer limit\n",
    "df = df[df['PREVAILING_WAGE'] > 0]"
   ]
  },
  {
   "cell_type": "markdown",
   "metadata": {},
   "source": [
    "### Clean Data Formats"
   ]
  },
  {
   "cell_type": "code",
   "execution_count": null,
   "metadata": {},
   "outputs": [],
   "source": [
    "# Replace \"FULL_TIME_POSITION\" (which currently has \"Y\" or \"N\") with True/False\n",
    "df[\"FULL_TIME_POSITION\"] = df[\"FULL_TIME_POSITION\"].map(lambda x: x == \"Y\")\n",
    "\n",
    "# Convert \"PREVAILING_WAGE\" into int\n",
    "df[\"PREVAILING_WAGE\"] = df[\"PREVAILING_WAGE\"].map(lambda x: int(x))\n",
    "\n",
    "# Remove commas at end of certain WORKCITY_CITY columns\n",
    "df[\"WORKSITE_CITY\"] = df[\"WORKSITE_CITY\"].map(lambda x: str(x).removesuffix(\",\"))\n",
    "\n",
    "# Cleanup WORKSITE_STATE_ABB\n",
    "worksite_abb_map = {\"NEWYORK\": \"NY\", \"ILLINOIS\": \"IL\", \"PENNSYLVANIA\": \"PA\", \"MICHIGAN\": \"MI\", \"OHIO\": \"OH\", \"MINNESOTA\": \"MN\", \"INDIANA\": \"IN\", \"WISCONSIN\": \"WI\"}\n",
    "df[\"WORKSITE_STATE_ABB\"] = df[\"WORKSITE_STATE_ABB\"].map(lambda x: worksite_abb_map[x] if x in worksite_abb_map.keys() else x)\n",
    "\n",
    "# Cleanup JOB_TITLE by removing &NBSP; and &AMP;\n",
    "df[\"JOB_TITLE\"] = df[\"JOB_TITLE\"].map(lambda x: x.replace(\"&NBSP;\", \" \").replace(\"&AMP;\", \"&\"))\n",
    "\n",
    "# All other columns are clean enough for our purposes"
   ]
  },
  {
   "cell_type": "markdown",
   "metadata": {},
   "source": [
    "## Exploratory Data Analysis (Univariate)\n",
    "\n",
    "### Year Distribution"
   ]
  },
  {
   "cell_type": "code",
   "execution_count": null,
   "metadata": {},
   "outputs": [],
   "source": [
    "# Count applications by year\n",
    "applications_by_year = df[\"YEAR\"].value_counts()\n",
    "applications_by_year = applications_by_year.reset_index() # Fix suggested by ChatGPT\n",
    "\n",
    "# Rename columns\n",
    "applications_by_year.columns = [\"Year\", \"Number of Applications\"]\n",
    "\n",
    "# Create and title plot\n",
    "fig = px.bar(applications_by_year, x=\"Year\", y=\"Number of Applications\", title=\"Number of Applications by Year\")\n",
    "\n",
    "# Show plot\n",
    "fig.show()\n",
    "\n"
   ]
  },
  {
   "cell_type": "markdown",
   "metadata": {},
   "source": [
    "### State Distribution"
   ]
  },
  {
   "cell_type": "code",
   "execution_count": null,
   "metadata": {},
   "outputs": [],
   "source": [
    "# Count applications by state\n",
    "applications_by_state = df[\"WORKSITE_STATE_FULL\"].value_counts()\n",
    "applications_by_state = applications_by_state.reset_index() # Fix suggested by ChatGPT\n",
    "\n",
    "# Rename columns\n",
    "applications_by_state.columns = [\"State\", \"Number of Applications\"]\n",
    "\n",
    "# Create and bar plot\n",
    "fig = px.bar(applications_by_state, x=\"State\", y=\"Number of Applications\", title=\"Number of Applications by State\")\n",
    "\n",
    "# Show plot\n",
    "fig.show()"
   ]
  },
  {
   "cell_type": "markdown",
   "metadata": {},
   "source": [
    "### Most Popular Roles"
   ]
  },
  {
   "cell_type": "code",
   "execution_count": null,
   "metadata": {},
   "outputs": [],
   "source": [
    "# Count applications by job title\n",
    "applications_by_role = df[\"JOB_TITLE\"].value_counts()\n",
    "applications_by_role = applications_by_role.reset_index() # Fix suggested by ChatGPT\n",
    "\n",
    "# Rename columns\n",
    "applications_by_role.columns = [\"Job Title\", \"Number of Applications\"]\n",
    "\n",
    "# Get top 10 job titles and put rest into \"other\" category\n",
    "top_10_job_titles = applications_by_role.head(10)\n",
    "other_jobs = applications_by_role.iloc[10:]\n",
    "other_jobs = other_jobs.sum()\n",
    "other_jobs[\"Job Title\"] = \"Other\"\n",
    "other_jobs = pd.DataFrame(other_jobs).transpose()\n",
    "applications_by_role = pd.concat([top_10_job_titles, other_jobs])\n",
    "\n",
    "# Create and title pie chart\n",
    "fig = px.pie(applications_by_role, values=\"Number of Applications\", names=\"Job Title\", title=\"Number of Applications by Job Title\")\n",
    "\n",
    "# Show plot\n",
    "fig.show()\n",
    "\n"
   ]
  },
  {
   "cell_type": "markdown",
   "metadata": {},
   "source": [
    "### Top Employers"
   ]
  },
  {
   "cell_type": "code",
   "execution_count": null,
   "metadata": {},
   "outputs": [],
   "source": [
    "# Count applications by employer\n",
    "applications_by_employer = df[\"EMPLOYER_NAME\"].value_counts()\n",
    "applications_by_employer = applications_by_employer.reset_index() # Fix suggested by ChatGPT\n",
    "\n",
    "# Rename columns\n",
    "applications_by_employer.columns = [\"Employer\", \"Number of Applications\"]\n",
    "\n",
    "# Get top 10 employers and put rest into \"other\" category\n",
    "top_10_employers = applications_by_employer.head(10)\n",
    "other_employers = applications_by_employer.iloc[10:]\n",
    "other_employers = other_employers.sum()\n",
    "other_employers[\"Employer\"] = \"Other\"\n",
    "other_employers = pd.DataFrame(other_employers).transpose()\n",
    "applications_by_employer = pd.concat([top_10_employers, other_employers])\n",
    "\n",
    "# Create and title pie chart\n",
    "fig = px.pie(applications_by_employer, values=\"Number of Applications\", names=\"Employer\", title=\"Number of Applications by Employer\")\n",
    "\n",
    "# Show plot\n",
    "fig.show()"
   ]
  },
  {
   "cell_type": "markdown",
   "metadata": {},
   "source": [
    "### H1-B Approval Rate"
   ]
  },
  {
   "cell_type": "code",
   "execution_count": null,
   "metadata": {},
   "outputs": [],
   "source": [
    "# Count applications by status\n",
    "applications_by_status = df[\"CASE_STATUS\"].value_counts()\n",
    "applications_by_status = applications_by_status.reset_index() # Fix suggested by ChatGPT\n",
    "\n",
    "# Rename columns\n",
    "applications_by_status.columns = [\"Status\", \"Number of Applications\"]\n",
    "\n",
    "# Create and title pie chart\n",
    "fig = px.pie(applications_by_status, values=\"Number of Applications\", names=\"Status\", title=\"Number of Applications by Status\")\n",
    "\n",
    "# Show plot\n",
    "fig.show()"
   ]
  },
  {
   "cell_type": "markdown",
   "metadata": {},
   "source": [
    "### Type of Work (Full-Time, Part-Time, etc.)"
   ]
  },
  {
   "cell_type": "code",
   "execution_count": null,
   "metadata": {},
   "outputs": [],
   "source": [
    "# Count applications by type of position\n",
    "type_of_work = df[\"FULL_TIME_POSITION\"].value_counts()\n",
    "type_of_work = type_of_work.reset_index() # Fix suggested by ChatGPT\n",
    "\n",
    "# Rename columns\n",
    "type_of_work.columns = [\"Full Time\", \"Number of Applications\"]\n",
    "\n",
    "# Replace true/false with \"Full Time\" and \"Part Time\"\n",
    "type_of_work[\"Full Time\"] = type_of_work[\"Full Time\"].map(lambda x: \"Full Time\" if x else \"Part Time\")\n",
    "\n",
    "# Create and title pie chart\n",
    "fig = px.pie(type_of_work, values=\"Number of Applications\", names=\"Full Time\", title=\"Number of Applications by Type of Position\")\n",
    "\n",
    "# Show plot\n",
    "fig.show()"
   ]
  },
  {
   "cell_type": "markdown",
   "metadata": {},
   "source": [
    "### Salary Distribution (Full Range)"
   ]
  },
  {
   "cell_type": "code",
   "execution_count": null,
   "metadata": {},
   "outputs": [],
   "source": [
    "# Select salaries\n",
    "salaries = df[\"PREVAILING_WAGE\"]\n",
    "\n",
    "# Create and title violin plot\n",
    "fig = px.violin(salaries, title=\"Distribution of Salaries\", labels={\"value\": \"Salary\", \"variable\": \"Salary Distribution\"}, box=True)\n",
    "\n",
    "# Show plot\n",
    "fig.show()\n"
   ]
  },
  {
   "cell_type": "markdown",
   "metadata": {},
   "source": [
    "### Salary Distribution (0-10M range)"
   ]
  },
  {
   "cell_type": "code",
   "execution_count": null,
   "metadata": {},
   "outputs": [],
   "source": [
    "# Select salaries below $10,000,000\n",
    "somewhat_reasonable_salaries = df[df[\"PREVAILING_WAGE\"] < 10000000][\"PREVAILING_WAGE\"]\n",
    "\n",
    "# Create and title violin plot\n",
    "fig = px.violin(somewhat_reasonable_salaries, title=\"Distribution of Salaries (below $10,000,000)\", labels={\"value\": \"Salary\", \"variable\": \"Salary Distribution\"}, box=True)\n",
    "\n",
    "# Show plot\n",
    "fig.show()\n"
   ]
  },
  {
   "cell_type": "markdown",
   "metadata": {},
   "source": [
    "### Salary Distribution (0-1M range)"
   ]
  },
  {
   "cell_type": "code",
   "execution_count": null,
   "metadata": {},
   "outputs": [],
   "source": [
    "# Select salaries below $1,000,000\n",
    "reasonable_salaries = df[df[\"PREVAILING_WAGE\"] < 1000000][\"PREVAILING_WAGE\"]\n",
    "\n",
    "# Create and title violin plot\n",
    "fig = px.violin(reasonable_salaries, title=\"Distribution of Salaries (below $1,000,000)\", labels={\"value\": \"Salary\", \"variable\": \"Salary Distribution\"}, box=True)\n",
    "\n",
    "# Show plot\n",
    "fig.show()"
   ]
  },
  {
   "cell_type": "markdown",
   "metadata": {},
   "source": [
    "### Salary Distribution (0-250k range)"
   ]
  },
  {
   "cell_type": "code",
   "execution_count": null,
   "metadata": {},
   "outputs": [],
   "source": [
    "# Select salaries below $250,000\n",
    "very_reasonable_salaries = df[df[\"PREVAILING_WAGE\"] < 250000][\"PREVAILING_WAGE\"]\n",
    "\n",
    "# Create and title violin plot\n",
    "fig = px.violin(very_reasonable_salaries, title=\"Distribution of Salaries (below $250,000)\", labels={\"value\": \"Salary\", \"variable\": \"Salary Distribution\"}, box=True)\n",
    "\n",
    "# Show plot\n",
    "fig.show()"
   ]
  },
  {
   "cell_type": "code",
   "execution_count": null,
   "metadata": {},
   "outputs": [],
   "source": [
    "df.head()"
   ]
  },
  {
   "cell_type": "markdown",
   "metadata": {},
   "source": [
    "## Exploratory Data Anlysis (Bivariate / Multivariate) - Only Bivariate because of time constraints"
   ]
  },
  {
   "cell_type": "markdown",
   "metadata": {},
   "source": [
    "### Top Paying Roles"
   ]
  },
  {
   "cell_type": "code",
   "execution_count": null,
   "metadata": {},
   "outputs": [],
   "source": [
    "# Group mean wages by job title (and filter for job titles with >100 applications)\n",
    "top_paying_roles = df[[\"JOB_TITLE\", \"PREVAILING_WAGE\"]].groupby(\"JOB_TITLE\").filter(lambda x: len(x) > 100)\n",
    "top_paying_roles = top_paying_roles.groupby(\"JOB_TITLE\").mean()\n",
    "top_paying_roles = top_paying_roles.reset_index() # Fix suggested by ChatGPT\n",
    "\n",
    "# Sort by salary and select top 10 job titles\n",
    "top_paying_roles = top_paying_roles.sort_values(\"PREVAILING_WAGE\", ascending=False)\n",
    "top_paying_roles = top_paying_roles.head(10)\n",
    "\n",
    "# Rename columns\n",
    "top_paying_roles.columns = [\"Job Title\", \"Salary\"]\n",
    "\n",
    "\n",
    "# Create and title bar chart\n",
    "fig = px.bar(top_paying_roles, x=\"Job Title\", y=\"Salary\", title=\"Average Salary by Job Title (Top 10 Job Titles, by Salary, w/ >100 Applications)\")\n",
    "\n",
    "# Show plot\n",
    "fig.show()"
   ]
  },
  {
   "cell_type": "markdown",
   "metadata": {},
   "source": [
    "### Top Paying Companies"
   ]
  },
  {
   "cell_type": "code",
   "execution_count": null,
   "metadata": {},
   "outputs": [],
   "source": [
    "# Group mean wages by employer (and filter for employers with >100 applications)\n",
    "top_paying_companies = df[[\"EMPLOYER_NAME\", \"PREVAILING_WAGE\"]].groupby(\"EMPLOYER_NAME\").filter(lambda x: len(x) > 100)\n",
    "top_paying_companies = top_paying_companies.groupby(\"EMPLOYER_NAME\").mean()\n",
    "top_paying_companies = top_paying_companies.reset_index() # Fix suggested by ChatGPT\n",
    "\n",
    "# Sort by salary and select top 10 employers\n",
    "top_paying_companies = top_paying_companies.sort_values(\"PREVAILING_WAGE\", ascending=False)\n",
    "top_paying_companies = top_paying_companies.head(10)\n",
    "\n",
    "# Rename columns\n",
    "top_paying_companies.columns = [\"Employer\", \"Salary\"]\n",
    "\n",
    "# Create and title bar chart\n",
    "fig = px.bar(top_paying_companies, x=\"Employer\", y=\"Salary\", title=\"Average Salary by Employer (Top 10 Employers, by Salary, w/ >100 Applications)\")\n",
    "\n",
    "# Show plot\n",
    "fig.show()"
   ]
  },
  {
   "cell_type": "markdown",
   "metadata": {},
   "source": [
    "### Top Paying States"
   ]
  },
  {
   "cell_type": "code",
   "execution_count": null,
   "metadata": {},
   "outputs": [],
   "source": [
    "# Group mean wages by state\n",
    "top_paying_states = df[[\"WORKSITE_STATE_FULL\", \"PREVAILING_WAGE\"]].groupby(\"WORKSITE_STATE_FULL\").mean()\n",
    "top_paying_states = top_paying_states.reset_index() # Fix suggested by ChatGPT\n",
    "\n",
    "# Sort by salary and select top 10 states\n",
    "top_paying_states = top_paying_states.sort_values(\"PREVAILING_WAGE\", ascending=False)\n",
    "top_paying_states = top_paying_states.head(10)\n",
    "\n",
    "# Rename columns\n",
    "top_paying_states.columns = [\"State\", \"Salary\"]\n",
    "\n",
    "# Create and title bar chart\n",
    "fig = px.bar(top_paying_states, x=\"State\", y=\"Salary\", title=\"Average Salary by State (Top 10 States, by Salary)\")\n",
    "\n",
    "# Show plot\n",
    "fig.show()"
   ]
  },
  {
   "cell_type": "markdown",
   "metadata": {},
   "source": [
    "### Pay by Year"
   ]
  },
  {
   "cell_type": "code",
   "execution_count": null,
   "metadata": {},
   "outputs": [],
   "source": [
    "# Group mean wages by year\n",
    "pay_by_year = df[[\"YEAR\", \"PREVAILING_WAGE\"]].groupby(\"YEAR\").mean()\n",
    "pay_by_year = pay_by_year.reset_index() # Fix suggested by ChatGPT\n",
    "\n",
    "# Rename columns\n",
    "pay_by_year.columns = [\"Year\", \"Average Salary\"]\n",
    "\n",
    "# Create and title bar chart\n",
    "fig = px.bar(pay_by_year, x=\"Year\", y=\"Average Salary\", title=\"Average Salary by Year\")\n",
    "\n",
    "# Show plot\n",
    "fig.show()"
   ]
  },
  {
   "cell_type": "markdown",
   "metadata": {},
   "source": [
    "### Most Accepted Roles"
   ]
  },
  {
   "cell_type": "code",
   "execution_count": null,
   "metadata": {},
   "outputs": [],
   "source": [
    "# Group status by job title (and filter for job titles with >100 applications)\n",
    "most_accepted_jobs = df[[\"JOB_TITLE\", \"CASE_STATUS\"]].groupby(\"JOB_TITLE\").filter(lambda x: len(x) > 100)\n",
    "\n",
    "# For each job title, calculate the percentage of applications that were certified\n",
    "most_accepted_jobs = most_accepted_jobs.groupby(\"JOB_TITLE\").apply(lambda x: len(x[x[\"CASE_STATUS\"] == \"CERTIFIED\"]) / len(x) * 100)\n",
    "\n",
    "# Sort by percentage and select top 10 job titles\n",
    "most_accepted_jobs = most_accepted_jobs.sort_values(ascending=False)\n",
    "most_accepted_jobs = most_accepted_jobs.head(10)\n",
    "\n",
    "# Rename columns\n",
    "most_accepted_jobs = most_accepted_jobs.reset_index()\n",
    "most_accepted_jobs.columns = [\"Job Title\", \"Percentage Certified\"]\n",
    "\n",
    "# Create and title bar chart\n",
    "fig = px.bar(most_accepted_jobs, x=\"Job Title\", y=\"Percentage Certified\", title=\"Percentage of Applications Certified by Job Title (Top 10 Job Titles, by Percentage Certified, w/ >100 Applications)\")\n",
    "\n",
    "# Show plot\n",
    "fig.show()\n",
    "\n"
   ]
  },
  {
   "cell_type": "markdown",
   "metadata": {},
   "source": [
    "### Most Rejected Roles"
   ]
  },
  {
   "cell_type": "code",
   "execution_count": null,
   "metadata": {},
   "outputs": [],
   "source": [
    "# Group status by job title (and filter for job titles with >100 applications)\n",
    "most_accepted_jobs = df[[\"JOB_TITLE\", \"CASE_STATUS\"]].groupby(\"JOB_TITLE\").filter(lambda x: len(x) > 100)\n",
    "\n",
    "# For each job title, calculate the percentage of applications that were certified\n",
    "most_accepted_jobs = most_accepted_jobs.groupby(\"JOB_TITLE\").apply(lambda x: len(x[x[\"CASE_STATUS\"] == \"CERTIFIED\"]) / len(x) * 100)\n",
    "\n",
    "# Sort by percentage and select worse 10 job titles\n",
    "most_accepted_jobs = most_accepted_jobs.sort_values(ascending=True)\n",
    "most_accepted_jobs = most_accepted_jobs.head(10)\n",
    "\n",
    "# Rename columns\n",
    "most_accepted_jobs = most_accepted_jobs.reset_index()\n",
    "most_accepted_jobs.columns = [\"Job Title\", \"Percentage Certified\"]\n",
    "\n",
    "# Create and title bar chart\n",
    "fig = px.bar(most_accepted_jobs, x=\"Job Title\", y=\"Percentage Certified\", title=\"Percentage of Applications Certified by Job Title (Worst 10 Job Titles, by Percentage Certified, w/ >100 Applications)\")\n",
    "\n",
    "# Show plot\n",
    "fig.show()"
   ]
  },
  {
   "cell_type": "markdown",
   "metadata": {},
   "source": [
    "### Most Accepted Employers"
   ]
  },
  {
   "cell_type": "code",
   "execution_count": null,
   "metadata": {},
   "outputs": [],
   "source": [
    "# Group status by employer (and filter for employers with >100 applications)\n",
    "most_accepted_employers = df[[\"EMPLOYER_NAME\", \"CASE_STATUS\"]].groupby(\"EMPLOYER_NAME\").filter(lambda x: len(x) > 100)\n",
    "\n",
    "# For each employer, calculate the percentage of applications that were certified\n",
    "most_accepted_employers = most_accepted_employers.groupby(\"EMPLOYER_NAME\").apply(lambda x: len(x[x[\"CASE_STATUS\"] == \"CERTIFIED\"]) / len(x) * 100)\n",
    "\n",
    "# Sort by percentage and select top 10 employers\n",
    "most_accepted_employers = most_accepted_employers.sort_values(ascending=False)\n",
    "most_accepted_employers = most_accepted_employers.head(10)\n",
    "\n",
    "# Rename columns\n",
    "most_accepted_employers = most_accepted_employers.reset_index()\n",
    "most_accepted_employers.columns = [\"Employer\", \"Percentage Certified\"]\n",
    "\n",
    "# Create and title bar chart\n",
    "fig = px.bar(most_accepted_employers, x=\"Employer\", y=\"Percentage Certified\", title=\"Percentage of Applications Certified by Employer (Top 10 Employers, by Percentage Certified, w/ >100 Applications)\")\n",
    "\n",
    "# Show plot\n",
    "fig.show()"
   ]
  },
  {
   "cell_type": "markdown",
   "metadata": {},
   "source": [
    "### Most Rejected Employers"
   ]
  },
  {
   "cell_type": "code",
   "execution_count": null,
   "metadata": {},
   "outputs": [],
   "source": [
    "# Group status by employer (and filter for employers with >100 applications)\n",
    "most_accepted_employers = df[[\"EMPLOYER_NAME\", \"CASE_STATUS\"]].groupby(\"EMPLOYER_NAME\").filter(lambda x: len(x) > 100)\n",
    "\n",
    "# For each employer, calculate the percentage of applications that were certified\n",
    "most_accepted_employers = most_accepted_employers.groupby(\"EMPLOYER_NAME\").apply(lambda x: len(x[x[\"CASE_STATUS\"] == \"CERTIFIED\"]) / len(x) * 100)\n",
    "\n",
    "# Sort by percentage and select worse 10 employers\n",
    "most_accepted_employers = most_accepted_employers.sort_values(ascending=True)\n",
    "most_accepted_employers = most_accepted_employers.head(10)\n",
    "\n",
    "# Rename columns\n",
    "most_accepted_employers = most_accepted_employers.reset_index()\n",
    "most_accepted_employers.columns = [\"Employer\", \"Percentage Certified\"]\n",
    "\n",
    "# Create and title bar chart\n",
    "fig = px.bar(most_accepted_employers, x=\"Employer\", y=\"Percentage Certified\", title=\"Percentage of Applications Certified by Employer (Worst 10 Employers, by Percentage Certified, w/ >100 Applications)\")\n",
    "\n",
    "# Show plot\n",
    "fig.show()"
   ]
  },
  {
   "cell_type": "markdown",
   "metadata": {},
   "source": [
    "### Rejection for Full-Time vs Part-Time"
   ]
  },
  {
   "cell_type": "code",
   "execution_count": null,
   "metadata": {},
   "outputs": [],
   "source": [
    "# Group status by job type (Full Time/Part Time)\n",
    "job_type_rate = df[[\"FULL_TIME_POSITION\", \"CASE_STATUS\"]].groupby(\"FULL_TIME_POSITION\")\n",
    "\n",
    "# For each job type, calculate the percentage of applications that were certified\n",
    "job_type_rate = job_type_rate.apply(lambda x: len(x[x[\"CASE_STATUS\"] == \"CERTIFIED\"]) / len(x) * 100)\n",
    "\n",
    "# Rename columns\n",
    "job_type_rate = job_type_rate.reset_index()\n",
    "job_type_rate.columns = [\"Full Time\", \"Percentage Certified\"]\n",
    "\n",
    "# Replace true/false with \"Full Time\" and \"Part Time\"\n",
    "job_type_rate[\"Full Time\"] = job_type_rate[\"Full Time\"].map(lambda x: \"Full Time\" if x else \"Part Time\")\n",
    "\n",
    "# Create and title bar chart\n",
    "fig = px.bar(job_type_rate, x=\"Full Time\", y=\"Percentage Certified\", title=\"Percentage of Applications Certified by Job Type\")\n",
    "\n",
    "# Show plot\n",
    "fig.show()\n"
   ]
  },
  {
   "cell_type": "markdown",
   "metadata": {},
   "source": [
    "## Statistical Analysis\n",
    "\n",
    "### How has the mean salary changed over time?\n",
    "Salary dipped slightly from 2015-2016, but then steadily increased from 2016-2018. In 2019 it dipped slightly again to levels below that of 2018. The salary average salary in 2015 was $88k. In 2018 it was $110k, and in 2019 it was $95k.\n",
    "\n",
    "### How does a part-time/full-time job affect acceptance rate?\n",
    "Whether a job is full-time or part-time doesn't seem to significantly impact the acceptance rate. The acceptance rate for full-time jobs is 89.5%, and for part-time jobs it is 88.5%. We can conclude that the type of job doesn't significantly impact the acceptance rate.\n",
    "\n",
    "### How does the mean salary change by state?\n",
    "The mean salary varies significantly by state. The state with the highest mean salary is Minnesota, with a mean salary of $106k. The state with the lowest mean salary is Wisconsin, with a mean salary of $74k."
   ]
  },
  {
   "cell_type": "code",
   "execution_count": null,
   "metadata": {},
   "outputs": [],
   "source": [
    "df.head(1).transpose().to_markdown(\"data.md\")"
   ]
  }
 ],
 "metadata": {
  "kernelspec": {
   "display_name": ".venv",
   "language": "python",
   "name": "python3"
  },
  "language_info": {
   "codemirror_mode": {
    "name": "ipython",
    "version": 3
   },
   "file_extension": ".py",
   "mimetype": "text/x-python",
   "name": "python",
   "nbconvert_exporter": "python",
   "pygments_lexer": "ipython3",
   "version": "3.11.6"
  }
 },
 "nbformat": 4,
 "nbformat_minor": 2
}
