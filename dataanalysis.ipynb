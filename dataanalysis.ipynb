version https://git-lfs.github.com/spec/v1
oid sha256:aea5b4bd542cefe90b21e94ee3f5feaf4c4aa4becab0368d8030f065286fcd8f
size 158507320
